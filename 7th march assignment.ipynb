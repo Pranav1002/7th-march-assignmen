{
 "cells": [
  {
   "cell_type": "markdown",
   "id": "b85e2b20-e6d4-42be-8d86-2216c70ca87f",
   "metadata": {},
   "source": [
    "# Q1.What are the three measures of central tendency?\n",
    "\n",
    "---> Mean, MEdian and Mode are three measures of central tendency."
   ]
  },
  {
   "cell_type": "markdown",
   "id": "4a65c2a2-2b9a-49e2-bdd4-135f3db8df1d",
   "metadata": {},
   "source": [
    "# Q2. What is the difference between the mean, median, and mode? How are they used to measure the central tendency of a dataset?\n",
    "\n",
    "---> The mean is the sum of all values in the dataset divided by the total number of values. It is often referred to as the arithmetic mean. The mean is sensitive to extreme values, also known as outliers, and can be influenced by them.\n",
    "\n",
    "---> The median is the middle value in a dataset when it is arranged in order from lowest to highest (or highest to lowest). If the dataset has an even number of values, the median is the average of the two middle values. The median is less sensitive to extreme values than the mean, and is often a better measure of central tendency for skewed or asymmetrical distributions.\n",
    "\n",
    "---> The mode is the most frequently occurring value in the dataset. It is the value that appears most often. The mode is often used when dealing with categorical or nominal data. In a dataset with a normal distribution, the mode, median, and mean are all equal."
   ]
  },
  {
   "cell_type": "markdown",
   "id": "b1a3894c-1bf0-4e49-b814-4f103aaee893",
   "metadata": {},
   "source": [
    "# Q3. Measure the three measures of central tendency for the given height data:\n",
    "\n",
    "data : [178,177,176,177,178.2,178,175,179,180,175,178.9,176.2,177,172.5,178,176.5]"
   ]
  },
  {
   "cell_type": "code",
   "execution_count": 11,
   "id": "a3b19730-322b-4f18-9271-c7b76b6d171e",
   "metadata": {},
   "outputs": [
    {
     "name": "stdout",
     "output_type": "stream",
     "text": [
      "Mean :  177.01875 \n",
      "Median :  177.0 \n",
      "Mode :  177.0\n"
     ]
    },
    {
     "name": "stderr",
     "output_type": "stream",
     "text": [
      "/tmp/ipykernel_143/1913558869.py:8: FutureWarning: Unlike other reduction functions (e.g. `skew`, `kurtosis`), the default behavior of `mode` typically preserves the axis it acts along. In SciPy 1.11.0, this behavior will change: the default value of `keepdims` will become False, the `axis` over which the statistic is taken will be eliminated, and the value None will no longer be accepted. Set `keepdims` to True or False to avoid this warning.\n",
      "  m = st.mode(data)\n"
     ]
    }
   ],
   "source": [
    "import numpy as np\n",
    "from scipy import stats as st\n",
    "\n",
    "data = np.array([178,177,176,177,178.2,178,175,179,180,175,178.9,176.2,177,172.5,178,176.5])\n",
    "\n",
    "mean1 = np.mean(data)\n",
    "median1 = np.median(data)\n",
    "m = st.mode(data)\n",
    "\n",
    "mode1 = m[0][0]\n",
    "print('Mean : ',mean1, '\\nMedian : ',median1, '\\nMode : ',mode1)\n"
   ]
  },
  {
   "cell_type": "markdown",
   "id": "a20be7d6-50f3-495f-a6c1-bc36786d3203",
   "metadata": {},
   "source": [
    "  "
   ]
  },
  {
   "cell_type": "markdown",
   "id": "e6e52a7b-c970-45a6-a9b3-6f6d6b006c09",
   "metadata": {},
   "source": [
    "# Q4. Find the standard deviation for the given data:"
   ]
  },
  {
   "cell_type": "code",
   "execution_count": 12,
   "id": "0783866c-0de0-4f26-836d-ffcc48d95ac2",
   "metadata": {},
   "outputs": [
    {
     "name": "stdout",
     "output_type": "stream",
     "text": [
      "Standard Deviation :  1.7885814036548633\n"
     ]
    }
   ],
   "source": [
    "sd = np.std(data)\n",
    "\n",
    "print('Standard Deviation : ',sd)"
   ]
  },
  {
   "cell_type": "markdown",
   "id": "791a6d89-54c5-463c-8d2f-9572fbbc3138",
   "metadata": {},
   "source": [
    "  "
   ]
  },
  {
   "cell_type": "markdown",
   "id": "4022e2e6-8b1a-47a8-b14c-0c23c12ce6b1",
   "metadata": {},
   "source": [
    "# Q5. How are measures of dispersion such as range, variance, and standard deviation used to describe the spread of a dataset? Provide an example.\n",
    "\n",
    "---> The range is the difference between the maximum and minimum values in the dataset, which gives an idea of how much the values in the dataset vary. However, it can be affected by extreme values or outliers, which can distort the range.\n",
    "\n",
    "---> The variance is a measure of how much the values in a dataset deviate from the mean. It is calculated by taking the average of the squared deviations from the mean. The variance provides a more precise measure of the spread than the range, but it is also affected by extreme values\n",
    "\n",
    "---> The standard deviation is the square root of the variance and is a commonly used measure of the spread of a dataset. It is also more interpretable than the variance because it has the same units as the original data. The standard deviation provides a measure of how much the data is spread out around the mean.\n",
    "\n",
    "Example is given by the following code."
   ]
  },
  {
   "cell_type": "code",
   "execution_count": 13,
   "id": "706452d7-3511-4248-88ad-d2b7cb146e02",
   "metadata": {},
   "outputs": [
    {
     "name": "stdout",
     "output_type": "stream",
     "text": [
      "range :  890 \n",
      "varience :  88104.8163265306 \n",
      "standard deviation :  296.82455479041926\n"
     ]
    }
   ],
   "source": [
    "data1 = np.array([10, 16, 40, 70, 130, 300, 900])\n",
    "\n",
    "range1 = np.max(data1) - np.min(data1)\n",
    "var1 = np.var(data1)\n",
    "sd1 = np.std(data1)\n",
    "\n",
    "print('range : ',range1, '\\nvarience : ', var1, '\\nstandard deviation : ', sd1)"
   ]
  },
  {
   "cell_type": "markdown",
   "id": "e8caa5bb-f740-4a03-aebd-00a9976b040d",
   "metadata": {},
   "source": [
    "  "
   ]
  },
  {
   "cell_type": "markdown",
   "id": "dbbe2c9f-96e0-4129-bcf4-a1cd9487ce2d",
   "metadata": {},
   "source": [
    "# Q6. What is a Venn diagram?\n",
    "\n",
    "---> A Venn diagram is a graphical representation of set theory that uses circles to depict the relationships between sets of objects or groups of data. It consists of overlapping circles or other shapes, where each circle represents a set and the overlap between circles represents the intersection of those sets.\n",
    "\n",
    "---> Venn diagrams are used to visually represent and compare the relationships between different sets or groups of data, and to show how they overlap or share common elements. The size of the circles and their intersection can also be used to indicate the relative size of the sets or the frequency of the data.\n",
    "\n",
    "---> Venn diagrams are commonly used in various fields such as mathematics, statistics, logic, computer science, and other areas where set theory is applied. They are useful for organizing and presenting complex information in a simple and easy-to-understand format, making them a valuable tool for data analysis and problem-solving."
   ]
  },
  {
   "cell_type": "markdown",
   "id": "cc8c27e2-88d0-4a5d-8f16-b99f8402f2dd",
   "metadata": {},
   "source": [
    "  "
   ]
  },
  {
   "cell_type": "markdown",
   "id": "7f9172ac-b7d0-4a43-847a-c957fea10ffe",
   "metadata": {},
   "source": [
    "# Q7. For the two given sets A = (2,3,4,5,6,7) & B = (0,2,6,8,10). Find:\n",
    "\n",
    "(i) \tA & B\n",
    "\n",
    "(ii)\tA | B"
   ]
  },
  {
   "cell_type": "code",
   "execution_count": 14,
   "id": "b8d88b53-2f1c-475b-85ae-076efa97bd57",
   "metadata": {},
   "outputs": [
    {
     "name": "stdout",
     "output_type": "stream",
     "text": [
      "Intersection :  [2 6] \n",
      "Union :  [ 0  2  3  4  5  6  7  8 10]\n"
     ]
    }
   ],
   "source": [
    "A = np.array([2,3,4,5,6,7])\n",
    "B = np.array([0,2,6,8,10])\n",
    "\n",
    "intersection = np.intersect1d(A, B)\n",
    "union = np.union1d(A, B)\n",
    "\n",
    "print('Intersection : ', intersection, '\\nUnion : ', union)"
   ]
  },
  {
   "cell_type": "markdown",
   "id": "3ffb5625-1008-4293-a6ec-8066893005ca",
   "metadata": {},
   "source": [
    "  "
   ]
  },
  {
   "cell_type": "markdown",
   "id": "0302e82f-d78b-4002-9e61-48654824b74f",
   "metadata": {},
   "source": [
    "# Q8. What do you understand about skewness in data?\n",
    "\n",
    "---> Skewness is a measure of the asymmetry of the probability distribution of a real-valued random variable about its mean.\n",
    "\n",
    "---> It characterizes the degree of asymmetry of a distribution around its mean.\n",
    "\n",
    "--->  A positive skewness indicates that the tail on the right side of the probability density function is longer or fatter than the left side. \n",
    "\n",
    "---> Conversely, a negative skewness indicates that the tail on the left side is longer or fatter than the right side2. \n",
    "\n",
    "---> A skewness value of zero indicates that there is no skewness in the data"
   ]
  },
  {
   "cell_type": "markdown",
   "id": "412fc821-47b5-45d6-ac37-210822f9cb36",
   "metadata": {},
   "source": [
    "  "
   ]
  },
  {
   "cell_type": "markdown",
   "id": "64bf20b6-e877-45e4-b78a-f948ff66a19c",
   "metadata": {},
   "source": [
    "# Q9. If a data is right skewed then what will be the position of median with respect to mean?\n",
    "\n",
    "---> In right skewed data mean value is usually greater than median. so by graph th value of medain will beleft side of the value of the mean."
   ]
  },
  {
   "cell_type": "markdown",
   "id": "17456468-59ad-48b7-a6f3-83f69b2395f7",
   "metadata": {},
   "source": [
    "  "
   ]
  },
  {
   "cell_type": "markdown",
   "id": "cd4bfc84-b8ff-4347-b4ca-a085cac61911",
   "metadata": {},
   "source": [
    "# Q10. Explain the difference between covariance and correlation. How are these measures used in statistical analysis?\n",
    "\n",
    "---> Covariance and correlation are two statistical measures used to describe the relationship between two variables.\n",
    "\n",
    "--->  Covariance is a measure of how much two variables change together. It is calculated by taking the product of the difference between each variable and its mean.\n",
    "\n",
    "--->  Correlation, on the other hand, measures the strength and direction of the linear relationship between two variables. It is calculated by dividing the covariance by the product of the standard deviations of each variable.\n",
    "\n",
    "---> Covariance can be positive or negative, depending on whether the variables move in the same direction or opposite directions.\n",
    "\n",
    "--->  Correlation ranges from -1 to 1, with -1 indicating a perfect negative correlation, 0 indicating no correlation, and 1 indicating a perfect positive correlation."
   ]
  },
  {
   "cell_type": "markdown",
   "id": "d84bc7af-fd66-436a-9683-c9aa466a540b",
   "metadata": {},
   "source": [
    "  "
   ]
  },
  {
   "cell_type": "markdown",
   "id": "0c38892e-18cd-4a60-aa6a-8ec209f0ce90",
   "metadata": {},
   "source": [
    "# Q11. What is the formula for calculating the sample mean? Provide an example calculation for a dataset.\n",
    "\n",
    "---> Fromula for calculating the sample mean is given below:\n",
    "\n",
    "x̄ = (Σ xi) / n\n",
    "\n",
    "data = (5, 10, 15, 20, 25)\n",
    "\n",
    "x̄ = (5+10+15+20+25)/5\n",
    "  = 15"
   ]
  },
  {
   "cell_type": "markdown",
   "id": "5eac3d1d-4e84-45eb-8e53-752f567266bf",
   "metadata": {},
   "source": [
    "  "
   ]
  },
  {
   "cell_type": "markdown",
   "id": "fe52af6b-b63f-4270-b50a-b13410cfbb8a",
   "metadata": {},
   "source": [
    "# Q12. For a normal distribution data what is the relationship between its measure of central tendency?\n",
    "\n",
    "---> or a normal distribution, the mean, median, and mode are all equal. This is because a normal distribution is symmetric around its mean, so the mean and median are at the center of the distribution. The mode is also at the center of the distribution because it is the value that occurs most frequently."
   ]
  },
  {
   "cell_type": "markdown",
   "id": "fafa29dd-abdb-4c25-bad3-58aea886065f",
   "metadata": {},
   "source": [
    "  "
   ]
  },
  {
   "cell_type": "markdown",
   "id": "f9327854-bf68-45f8-9ee0-deac58e17c4e",
   "metadata": {},
   "source": [
    "# Q13. How is covariance different from correlation?\n",
    "\n",
    "---> Covariance measures the direction of the relationship between two variables, while correlation measures the strength and direction of the relationship.\n",
    "\n",
    "---> Covariance can be positive or negative, depending on whether the variables move in the same direction or opposite directions. Correlation ranges from -1 to 1, with -1 indicating a perfect negative correlation, 0 indicating no correlation, and 1 indicating a perfect positive correlation.\n",
    "\n",
    "---> Covariance is affected by changes in scale, while correlation is not. This means that covariance can be difficult to interpret because it depends on the units of measurement of the variables being compared."
   ]
  },
  {
   "cell_type": "markdown",
   "id": "78f1173e-e25a-411a-83b4-d9484c03501a",
   "metadata": {},
   "source": [
    "  "
   ]
  },
  {
   "cell_type": "markdown",
   "id": "03045423-44bc-49df-8cf9-b9703aadc29d",
   "metadata": {},
   "source": [
    "# Q14. How do outliers affect measures of central tendency and dispersion? Provide an example.\n",
    "\n",
    "---> Measures of central tendency, such as the mean and median, can be pulled in the direction of the outlier, making them less representative of the data as a whole.\n",
    "\n",
    "---> Measures of dispersion, such as the range and standard deviation, can also be affected by outliers because they are based on the spread of the data.\n",
    "\n",
    "example:\n",
    "\n",
    "(5 + 10 + 15 + 20 + 25 + 100) / 6 = 25.83\n",
    "\n",
    "median:(15 + 20) / 2 = 17.5"
   ]
  }
 ],
 "metadata": {
  "kernelspec": {
   "display_name": "Python 3 (ipykernel)",
   "language": "python",
   "name": "python3"
  },
  "language_info": {
   "codemirror_mode": {
    "name": "ipython",
    "version": 3
   },
   "file_extension": ".py",
   "mimetype": "text/x-python",
   "name": "python",
   "nbconvert_exporter": "python",
   "pygments_lexer": "ipython3",
   "version": "3.10.6"
  }
 },
 "nbformat": 4,
 "nbformat_minor": 5
}
